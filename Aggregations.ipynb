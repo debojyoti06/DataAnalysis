{
 "cells": [
  {
   "cell_type": "code",
   "execution_count": 1,
   "metadata": {
    "collapsed": true
   },
   "outputs": [],
   "source": [
    "import os\n",
    "import pandas as pd\n",
    "import numpy as np"
   ]
  },
  {
   "cell_type": "code",
   "execution_count": 2,
   "metadata": {
    "collapsed": false
   },
   "outputs": [
    {
     "data": {
      "text/plain": [
       "'C:\\\\Users\\\\d.dey\\\\Documents\\\\Python Scripts'"
      ]
     },
     "execution_count": 2,
     "metadata": {},
     "output_type": "execute_result"
    }
   ],
   "source": [
    "os.getcwd()"
   ]
  },
  {
   "cell_type": "code",
   "execution_count": 4,
   "metadata": {
    "collapsed": true
   },
   "outputs": [],
   "source": [
    "os.chdir(\"C:\\\\EclipseBytes\\\\CodeBaseDebo\\\\sql_excel\")"
   ]
  },
  {
   "cell_type": "code",
   "execution_count": 5,
   "metadata": {
    "collapsed": true
   },
   "outputs": [],
   "source": [
    "df = pd.read_csv(\"orderline.txt\",sep='\\t')"
   ]
  },
  {
   "cell_type": "code",
   "execution_count": 6,
   "metadata": {
    "collapsed": false
   },
   "outputs": [
    {
     "data": {
      "text/plain": [
       "(286017, 8)"
      ]
     },
     "execution_count": 6,
     "metadata": {},
     "output_type": "execute_result"
    }
   ],
   "source": [
    "df.shape"
   ]
  },
  {
   "cell_type": "code",
   "execution_count": 7,
   "metadata": {
    "collapsed": false
   },
   "outputs": [
    {
     "name": "stdout",
     "output_type": "stream",
     "text": [
      "   orderlineid  orderid  productid             shipdate             billdate  \\\n",
      "0      1010561  1006414      10834  2011-03-07 00:00:00  2011-03-08 00:00:00   \n",
      "1      1010562  1006541      11052  2011-01-19 00:00:00  2011-01-20 00:00:00   \n",
      "2      1010563  1006542      11070  2011-01-19 00:00:00  2011-01-20 00:00:00   \n",
      "3      1010564  1010154      11196  2009-11-19 00:00:00  2009-11-20 00:00:00   \n",
      "4      1010565  1009110      11048  2009-11-11 00:00:00  2009-11-12 00:00:00   \n",
      "\n",
      "   unitprice  numunits  totalprice  \n",
      "0      18.00         1       18.00  \n",
      "1      10.00         2       20.00  \n",
      "2      19.12         1       19.12  \n",
      "3      14.95         1       14.95  \n",
      "4      10.00         2       20.00  \n",
      "\n",
      "\n",
      "    orderlineid  orderid  productid             shipdate             billdate  \\\n",
      "0       1010561  1006414      10834  2011-03-07 00:00:00  2011-03-08 00:00:00   \n",
      "28      1010589  1008588      10834  2011-03-08 00:00:00  2011-03-09 00:00:00   \n",
      "65      1010626  1010317      10834  2010-12-09 00:00:00  2010-12-10 00:00:00   \n",
      "\n",
      "    unitprice  numunits  totalprice  \n",
      "0        18.0         1        18.0  \n",
      "28       18.0         1        18.0  \n",
      "65       25.0         1        25.0  \n"
     ]
    }
   ],
   "source": [
    "print(df.head(5))\n",
    "print('\\n')\n",
    "\n",
    "# check  the data for the product 10834 first 20\n",
    "print(df[df['productid']==10834].head(3))"
   ]
  },
  {
   "cell_type": "code",
   "execution_count": 11,
   "metadata": {
    "collapsed": false
   },
   "outputs": [
    {
     "name": "stdout",
     "output_type": "stream",
     "text": [
      "  productid totalprice numunits\n",
      "                   sum      sum\n",
      "0     10001    4035.00      727\n",
      "1     10002    3774.99      364\n",
      "2     10003    2865.97      320\n",
      "3     10004    2665.80       34\n",
      "4     10005   26356.47     1773\n"
     ]
    }
   ],
   "source": [
    "# Check sorting by sort_values with ascensding\n",
    "# group by productid\n",
    "# aggregations on 2 columns : only np sum here , more can be added\n",
    "df_agg = df.sort_values(by=['billdate'],ascending=[1]).groupby(['productid']).agg({'numunits':[np.sum],'totalprice':np.sum}).reset_index()\n",
    "print(df_agg.head(5))"
   ]
  },
  {
   "cell_type": "code",
   "execution_count": 9,
   "metadata": {
    "collapsed": false
   },
   "outputs": [
    {
     "name": "stdout",
     "output_type": "stream",
     "text": [
      "   index  totalprice  numunits\n",
      "0   5389       19.68         1\n",
      "1   5432       39.36         2\n",
      "2   5426       59.04         3\n",
      "3   6466       78.72         4\n",
      "4   3252       98.40         5\n"
     ]
    }
   ],
   "source": [
    "df_one_prod = df.sort_values(by=['billdate'],ascending=[1]).groupby(['productid']).agg({'numunits':np.cumsum,'totalprice':np.cumsum}).reset_index()\n",
    "print(df_one_prod.head(5))"
   ]
  },
  {
   "cell_type": "code",
   "execution_count": 10,
   "metadata": {
    "collapsed": false
   },
   "outputs": [
    {
     "name": "stdout",
     "output_type": "stream",
     "text": [
      "                  billdate  productid  numunits  No_cumm  total_trx  total_amt\n",
      "44402  2010-11-25 00:00:00      10006         1      121       2329    15414.4\n",
      "44500  2010-11-25 00:00:00      10006         1      122       2329    15414.4\n",
      "44753  2010-11-25 00:00:00      10006         1      123       2329    15414.4\n",
      "44817  2010-11-25 00:00:00      10006         1      124       2329    15414.4\n",
      "44984  2010-11-25 00:00:00      10006         1      125       2329    15414.4\n",
      "45092  2010-11-25 00:00:00      10006         1      126       2329    15414.4\n",
      "45392  2010-11-25 00:00:00      10006         1      127       2329    15414.4\n",
      "45424  2010-11-25 00:00:00      10006         1      128       2329    15414.4\n",
      "45521  2010-11-25 00:00:00      10006         1      129       2329    15414.4\n",
      "45668  2010-11-25 00:00:00      10006         1      130       2329    15414.4\n"
     ]
    }
   ],
   "source": [
    "#df['No_cumm'] =df.groupby(['productid'])['numunits'].apply(lambda x: x.cumsum())\n",
    "\n",
    "# create the cummulative sum and append to the df\n",
    "df['No_cumm'] =df.sort_values(by=['productid','billdate','numunits'],ascending=[1,1,1]).groupby(['productid'])['numunits'].transform(np.cumsum)\n",
    "#df.reset_index()\n",
    "\n",
    "\n",
    "#print(df.head(5))# calculate the sum of transaction and amount \n",
    "df['total_trx'] = df.groupby(['productid'])['numunits'].transform(np.sum)\n",
    "df['total_amt'] = df.groupby(['productid'])['totalprice'].transform(np.sum)\n",
    "\n",
    "# displaying the select rows along with the select columns for specific count\n",
    "print(df.loc[(df['productid']==10006),\\\n",
    "             ['billdate','productid','numunits','No_cumm','total_trx','total_amt']].\\\n",
    "             sort_values(by=['billdate','numunits'],ascending=[1,1])[120:130])\n"
   ]
  },
  {
   "cell_type": "code",
   "execution_count": 47,
   "metadata": {
    "collapsed": false
   },
   "outputs": [],
   "source": [
    "# this method takes long time to compute. always choose the alternate one down below:\n",
    "def ranker(df):\n",
    "    df['rank'] = np.arange(len(df)) + 1\n",
    "    return df\n",
    "\n",
    "df=df.groupby(['productid','billdate','totalprice']).apply(ranker)"
   ]
  },
  {
   "cell_type": "code",
   "execution_count": null,
   "metadata": {
    "collapsed": false
   },
   "outputs": [],
   "source": [
    "# ad a \n",
    "df['rankProd']= df.sort_values(by=['productid','billdate'],ascending=[1,1]).groupby(['productid']).rank(ascending=1,method='first')"
   ]
  },
  {
   "cell_type": "code",
   "execution_count": null,
   "metadata": {
    "collapsed": true
   },
   "outputs": [],
   "source": []
  },
  {
   "cell_type": "code",
   "execution_count": 12,
   "metadata": {
    "collapsed": false
   },
   "outputs": [
    {
     "ename": "KeyError",
     "evalue": "'rankProd'",
     "output_type": "error",
     "traceback": [
      "\u001b[1;31m---------------------------------------------------------------------------\u001b[0m",
      "\u001b[1;31mKeyError\u001b[0m                                  Traceback (most recent call last)",
      "\u001b[1;32m<ipython-input-12-c72067748052>\u001b[0m in \u001b[0;36m<module>\u001b[1;34m()\u001b[0m\n\u001b[1;32m----> 1\u001b[1;33m \u001b[0mdf\u001b[0m\u001b[1;33m[\u001b[0m\u001b[1;34m'No_cumm'\u001b[0m\u001b[1;33m]\u001b[0m \u001b[1;33m=\u001b[0m\u001b[0mdf\u001b[0m\u001b[1;33m.\u001b[0m\u001b[0msort_values\u001b[0m\u001b[1;33m(\u001b[0m\u001b[0mby\u001b[0m\u001b[1;33m=\u001b[0m\u001b[1;33m[\u001b[0m\u001b[1;34m'rankProd'\u001b[0m\u001b[1;33m]\u001b[0m\u001b[1;33m,\u001b[0m\u001b[0mascending\u001b[0m\u001b[1;33m=\u001b[0m\u001b[1;33m[\u001b[0m\u001b[1;36m1\u001b[0m\u001b[1;33m]\u001b[0m\u001b[1;33m)\u001b[0m\u001b[1;33m.\u001b[0m\u001b[0mgroupby\u001b[0m\u001b[1;33m(\u001b[0m\u001b[1;33m[\u001b[0m\u001b[1;34m'productid'\u001b[0m\u001b[1;33m]\u001b[0m\u001b[1;33m)\u001b[0m\u001b[1;33m[\u001b[0m\u001b[1;34m'numunits'\u001b[0m\u001b[1;33m]\u001b[0m\u001b[1;33m.\u001b[0m\u001b[0mtransform\u001b[0m\u001b[1;33m(\u001b[0m\u001b[0mnp\u001b[0m\u001b[1;33m.\u001b[0m\u001b[0mcumsum\u001b[0m\u001b[1;33m)\u001b[0m\u001b[1;33m\u001b[0m\u001b[0m\n\u001b[0m",
      "\u001b[1;32mC:\\Continuum\\Anaconda2\\lib\\site-packages\\pandas\\core\\frame.pyc\u001b[0m in \u001b[0;36msort_values\u001b[1;34m(self, by, axis, ascending, inplace, kind, na_position)\u001b[0m\n\u001b[0;32m   3149\u001b[0m \u001b[1;33m\u001b[0m\u001b[0m\n\u001b[0;32m   3150\u001b[0m             \u001b[0mby\u001b[0m \u001b[1;33m=\u001b[0m \u001b[0mby\u001b[0m\u001b[1;33m[\u001b[0m\u001b[1;36m0\u001b[0m\u001b[1;33m]\u001b[0m\u001b[1;33m\u001b[0m\u001b[0m\n\u001b[1;32m-> 3151\u001b[1;33m             \u001b[0mk\u001b[0m \u001b[1;33m=\u001b[0m \u001b[0mself\u001b[0m\u001b[1;33m[\u001b[0m\u001b[0mby\u001b[0m\u001b[1;33m]\u001b[0m\u001b[1;33m.\u001b[0m\u001b[0mvalues\u001b[0m\u001b[1;33m\u001b[0m\u001b[0m\n\u001b[0m\u001b[0;32m   3152\u001b[0m             \u001b[1;32mif\u001b[0m \u001b[0mk\u001b[0m\u001b[1;33m.\u001b[0m\u001b[0mndim\u001b[0m \u001b[1;33m==\u001b[0m \u001b[1;36m2\u001b[0m\u001b[1;33m:\u001b[0m\u001b[1;33m\u001b[0m\u001b[0m\n\u001b[0;32m   3153\u001b[0m \u001b[1;33m\u001b[0m\u001b[0m\n",
      "\u001b[1;32mC:\\Continuum\\Anaconda2\\lib\\site-packages\\pandas\\core\\frame.pyc\u001b[0m in \u001b[0;36m__getitem__\u001b[1;34m(self, key)\u001b[0m\n\u001b[0;32m   1995\u001b[0m             \u001b[1;32mreturn\u001b[0m \u001b[0mself\u001b[0m\u001b[1;33m.\u001b[0m\u001b[0m_getitem_multilevel\u001b[0m\u001b[1;33m(\u001b[0m\u001b[0mkey\u001b[0m\u001b[1;33m)\u001b[0m\u001b[1;33m\u001b[0m\u001b[0m\n\u001b[0;32m   1996\u001b[0m         \u001b[1;32melse\u001b[0m\u001b[1;33m:\u001b[0m\u001b[1;33m\u001b[0m\u001b[0m\n\u001b[1;32m-> 1997\u001b[1;33m             \u001b[1;32mreturn\u001b[0m \u001b[0mself\u001b[0m\u001b[1;33m.\u001b[0m\u001b[0m_getitem_column\u001b[0m\u001b[1;33m(\u001b[0m\u001b[0mkey\u001b[0m\u001b[1;33m)\u001b[0m\u001b[1;33m\u001b[0m\u001b[0m\n\u001b[0m\u001b[0;32m   1998\u001b[0m \u001b[1;33m\u001b[0m\u001b[0m\n\u001b[0;32m   1999\u001b[0m     \u001b[1;32mdef\u001b[0m \u001b[0m_getitem_column\u001b[0m\u001b[1;33m(\u001b[0m\u001b[0mself\u001b[0m\u001b[1;33m,\u001b[0m \u001b[0mkey\u001b[0m\u001b[1;33m)\u001b[0m\u001b[1;33m:\u001b[0m\u001b[1;33m\u001b[0m\u001b[0m\n",
      "\u001b[1;32mC:\\Continuum\\Anaconda2\\lib\\site-packages\\pandas\\core\\frame.pyc\u001b[0m in \u001b[0;36m_getitem_column\u001b[1;34m(self, key)\u001b[0m\n\u001b[0;32m   2002\u001b[0m         \u001b[1;31m# get column\u001b[0m\u001b[1;33m\u001b[0m\u001b[1;33m\u001b[0m\u001b[0m\n\u001b[0;32m   2003\u001b[0m         \u001b[1;32mif\u001b[0m \u001b[0mself\u001b[0m\u001b[1;33m.\u001b[0m\u001b[0mcolumns\u001b[0m\u001b[1;33m.\u001b[0m\u001b[0mis_unique\u001b[0m\u001b[1;33m:\u001b[0m\u001b[1;33m\u001b[0m\u001b[0m\n\u001b[1;32m-> 2004\u001b[1;33m             \u001b[1;32mreturn\u001b[0m \u001b[0mself\u001b[0m\u001b[1;33m.\u001b[0m\u001b[0m_get_item_cache\u001b[0m\u001b[1;33m(\u001b[0m\u001b[0mkey\u001b[0m\u001b[1;33m)\u001b[0m\u001b[1;33m\u001b[0m\u001b[0m\n\u001b[0m\u001b[0;32m   2005\u001b[0m \u001b[1;33m\u001b[0m\u001b[0m\n\u001b[0;32m   2006\u001b[0m         \u001b[1;31m# duplicate columns & possible reduce dimensionality\u001b[0m\u001b[1;33m\u001b[0m\u001b[1;33m\u001b[0m\u001b[0m\n",
      "\u001b[1;32mC:\\Continuum\\Anaconda2\\lib\\site-packages\\pandas\\core\\generic.pyc\u001b[0m in \u001b[0;36m_get_item_cache\u001b[1;34m(self, item)\u001b[0m\n\u001b[0;32m   1348\u001b[0m         \u001b[0mres\u001b[0m \u001b[1;33m=\u001b[0m \u001b[0mcache\u001b[0m\u001b[1;33m.\u001b[0m\u001b[0mget\u001b[0m\u001b[1;33m(\u001b[0m\u001b[0mitem\u001b[0m\u001b[1;33m)\u001b[0m\u001b[1;33m\u001b[0m\u001b[0m\n\u001b[0;32m   1349\u001b[0m         \u001b[1;32mif\u001b[0m \u001b[0mres\u001b[0m \u001b[1;32mis\u001b[0m \u001b[0mNone\u001b[0m\u001b[1;33m:\u001b[0m\u001b[1;33m\u001b[0m\u001b[0m\n\u001b[1;32m-> 1350\u001b[1;33m             \u001b[0mvalues\u001b[0m \u001b[1;33m=\u001b[0m \u001b[0mself\u001b[0m\u001b[1;33m.\u001b[0m\u001b[0m_data\u001b[0m\u001b[1;33m.\u001b[0m\u001b[0mget\u001b[0m\u001b[1;33m(\u001b[0m\u001b[0mitem\u001b[0m\u001b[1;33m)\u001b[0m\u001b[1;33m\u001b[0m\u001b[0m\n\u001b[0m\u001b[0;32m   1351\u001b[0m             \u001b[0mres\u001b[0m \u001b[1;33m=\u001b[0m \u001b[0mself\u001b[0m\u001b[1;33m.\u001b[0m\u001b[0m_box_item_values\u001b[0m\u001b[1;33m(\u001b[0m\u001b[0mitem\u001b[0m\u001b[1;33m,\u001b[0m \u001b[0mvalues\u001b[0m\u001b[1;33m)\u001b[0m\u001b[1;33m\u001b[0m\u001b[0m\n\u001b[0;32m   1352\u001b[0m             \u001b[0mcache\u001b[0m\u001b[1;33m[\u001b[0m\u001b[0mitem\u001b[0m\u001b[1;33m]\u001b[0m \u001b[1;33m=\u001b[0m \u001b[0mres\u001b[0m\u001b[1;33m\u001b[0m\u001b[0m\n",
      "\u001b[1;32mC:\\Continuum\\Anaconda2\\lib\\site-packages\\pandas\\core\\internals.pyc\u001b[0m in \u001b[0;36mget\u001b[1;34m(self, item, fastpath)\u001b[0m\n\u001b[0;32m   3288\u001b[0m \u001b[1;33m\u001b[0m\u001b[0m\n\u001b[0;32m   3289\u001b[0m             \u001b[1;32mif\u001b[0m \u001b[1;32mnot\u001b[0m \u001b[0misnull\u001b[0m\u001b[1;33m(\u001b[0m\u001b[0mitem\u001b[0m\u001b[1;33m)\u001b[0m\u001b[1;33m:\u001b[0m\u001b[1;33m\u001b[0m\u001b[0m\n\u001b[1;32m-> 3290\u001b[1;33m                 \u001b[0mloc\u001b[0m \u001b[1;33m=\u001b[0m \u001b[0mself\u001b[0m\u001b[1;33m.\u001b[0m\u001b[0mitems\u001b[0m\u001b[1;33m.\u001b[0m\u001b[0mget_loc\u001b[0m\u001b[1;33m(\u001b[0m\u001b[0mitem\u001b[0m\u001b[1;33m)\u001b[0m\u001b[1;33m\u001b[0m\u001b[0m\n\u001b[0m\u001b[0;32m   3291\u001b[0m             \u001b[1;32melse\u001b[0m\u001b[1;33m:\u001b[0m\u001b[1;33m\u001b[0m\u001b[0m\n\u001b[0;32m   3292\u001b[0m                 \u001b[0mindexer\u001b[0m \u001b[1;33m=\u001b[0m \u001b[0mnp\u001b[0m\u001b[1;33m.\u001b[0m\u001b[0marange\u001b[0m\u001b[1;33m(\u001b[0m\u001b[0mlen\u001b[0m\u001b[1;33m(\u001b[0m\u001b[0mself\u001b[0m\u001b[1;33m.\u001b[0m\u001b[0mitems\u001b[0m\u001b[1;33m)\u001b[0m\u001b[1;33m)\u001b[0m\u001b[1;33m[\u001b[0m\u001b[0misnull\u001b[0m\u001b[1;33m(\u001b[0m\u001b[0mself\u001b[0m\u001b[1;33m.\u001b[0m\u001b[0mitems\u001b[0m\u001b[1;33m)\u001b[0m\u001b[1;33m]\u001b[0m\u001b[1;33m\u001b[0m\u001b[0m\n",
      "\u001b[1;32mC:\\Continuum\\Anaconda2\\lib\\site-packages\\pandas\\indexes\\base.pyc\u001b[0m in \u001b[0;36mget_loc\u001b[1;34m(self, key, method, tolerance)\u001b[0m\n\u001b[0;32m   1945\u001b[0m                 \u001b[1;32mreturn\u001b[0m \u001b[0mself\u001b[0m\u001b[1;33m.\u001b[0m\u001b[0m_engine\u001b[0m\u001b[1;33m.\u001b[0m\u001b[0mget_loc\u001b[0m\u001b[1;33m(\u001b[0m\u001b[0mkey\u001b[0m\u001b[1;33m)\u001b[0m\u001b[1;33m\u001b[0m\u001b[0m\n\u001b[0;32m   1946\u001b[0m             \u001b[1;32mexcept\u001b[0m \u001b[0mKeyError\u001b[0m\u001b[1;33m:\u001b[0m\u001b[1;33m\u001b[0m\u001b[0m\n\u001b[1;32m-> 1947\u001b[1;33m                 \u001b[1;32mreturn\u001b[0m \u001b[0mself\u001b[0m\u001b[1;33m.\u001b[0m\u001b[0m_engine\u001b[0m\u001b[1;33m.\u001b[0m\u001b[0mget_loc\u001b[0m\u001b[1;33m(\u001b[0m\u001b[0mself\u001b[0m\u001b[1;33m.\u001b[0m\u001b[0m_maybe_cast_indexer\u001b[0m\u001b[1;33m(\u001b[0m\u001b[0mkey\u001b[0m\u001b[1;33m)\u001b[0m\u001b[1;33m)\u001b[0m\u001b[1;33m\u001b[0m\u001b[0m\n\u001b[0m\u001b[0;32m   1948\u001b[0m \u001b[1;33m\u001b[0m\u001b[0m\n\u001b[0;32m   1949\u001b[0m         \u001b[0mindexer\u001b[0m \u001b[1;33m=\u001b[0m \u001b[0mself\u001b[0m\u001b[1;33m.\u001b[0m\u001b[0mget_indexer\u001b[0m\u001b[1;33m(\u001b[0m\u001b[1;33m[\u001b[0m\u001b[0mkey\u001b[0m\u001b[1;33m]\u001b[0m\u001b[1;33m,\u001b[0m \u001b[0mmethod\u001b[0m\u001b[1;33m=\u001b[0m\u001b[0mmethod\u001b[0m\u001b[1;33m,\u001b[0m \u001b[0mtolerance\u001b[0m\u001b[1;33m=\u001b[0m\u001b[0mtolerance\u001b[0m\u001b[1;33m)\u001b[0m\u001b[1;33m\u001b[0m\u001b[0m\n",
      "\u001b[1;32mpandas\\index.pyx\u001b[0m in \u001b[0;36mpandas.index.IndexEngine.get_loc (pandas\\index.c:4154)\u001b[1;34m()\u001b[0m\n",
      "\u001b[1;32mpandas\\index.pyx\u001b[0m in \u001b[0;36mpandas.index.IndexEngine.get_loc (pandas\\index.c:4018)\u001b[1;34m()\u001b[0m\n",
      "\u001b[1;32mpandas\\hashtable.pyx\u001b[0m in \u001b[0;36mpandas.hashtable.PyObjectHashTable.get_item (pandas\\hashtable.c:12368)\u001b[1;34m()\u001b[0m\n",
      "\u001b[1;32mpandas\\hashtable.pyx\u001b[0m in \u001b[0;36mpandas.hashtable.PyObjectHashTable.get_item (pandas\\hashtable.c:12322)\u001b[1;34m()\u001b[0m\n",
      "\u001b[1;31mKeyError\u001b[0m: 'rankProd'"
     ]
    }
   ],
   "source": [
    "df['No_cumm'] =df.sort_values(by=['rankProd'],ascending=[1]).groupby(['productid'])['numunits'].transform(np.cumsum)"
   ]
  },
  {
   "cell_type": "code",
   "execution_count": 143,
   "metadata": {
    "collapsed": false
   },
   "outputs": [
    {
     "data": {
      "text/plain": [
       "0    1\n",
       "1    2\n",
       "2    1\n",
       "3    1\n",
       "4    2\n",
       "Name: numunits, dtype: int64"
      ]
     },
     "execution_count": 143,
     "metadata": {},
     "output_type": "execute_result"
    }
   ],
   "source": [
    "df.groupby(['productid'])['numunits'].transform(np.cumsum).head(5)"
   ]
  },
  {
   "cell_type": "code",
   "execution_count": 163,
   "metadata": {
    "collapsed": false
   },
   "outputs": [
    {
     "data": {
      "text/html": [
       "<div>\n",
       "<table border=\"1\" class=\"dataframe\">\n",
       "  <thead>\n",
       "    <tr style=\"text-align: right;\">\n",
       "      <th></th>\n",
       "      <th>orderlineid</th>\n",
       "      <th>orderid</th>\n",
       "      <th>productid</th>\n",
       "      <th>shipdate</th>\n",
       "      <th>billdate</th>\n",
       "      <th>unitprice</th>\n",
       "      <th>numunits</th>\n",
       "      <th>totalprice</th>\n",
       "      <th>No_cumm</th>\n",
       "      <th>total_trx</th>\n",
       "      <th>total_5trx</th>\n",
       "    </tr>\n",
       "  </thead>\n",
       "  <tbody>\n",
       "    <tr>\n",
       "      <th>48006</th>\n",
       "      <td>1048007</td>\n",
       "      <td>1042778</td>\n",
       "      <td>10001</td>\n",
       "      <td>2012-08-29 00:00:00</td>\n",
       "      <td>2012-08-30 00:00:00</td>\n",
       "      <td>13.35</td>\n",
       "      <td>1</td>\n",
       "      <td>13.35</td>\n",
       "      <td>1</td>\n",
       "      <td>727</td>\n",
       "      <td>5</td>\n",
       "    </tr>\n",
       "    <tr>\n",
       "      <th>48069</th>\n",
       "      <td>1048070</td>\n",
       "      <td>1042792</td>\n",
       "      <td>10001</td>\n",
       "      <td>2012-08-29 00:00:00</td>\n",
       "      <td>2012-08-30 00:00:00</td>\n",
       "      <td>13.50</td>\n",
       "      <td>1</td>\n",
       "      <td>13.50</td>\n",
       "      <td>2</td>\n",
       "      <td>727</td>\n",
       "      <td>5</td>\n",
       "    </tr>\n",
       "    <tr>\n",
       "      <th>48808</th>\n",
       "      <td>1048809</td>\n",
       "      <td>1042112</td>\n",
       "      <td>10001</td>\n",
       "      <td>2012-09-05 00:00:00</td>\n",
       "      <td>2012-09-06 00:00:00</td>\n",
       "      <td>13.35</td>\n",
       "      <td>1</td>\n",
       "      <td>13.35</td>\n",
       "      <td>3</td>\n",
       "      <td>727</td>\n",
       "      <td>5</td>\n",
       "    </tr>\n",
       "    <tr>\n",
       "      <th>49565</th>\n",
       "      <td>1049566</td>\n",
       "      <td>1042297</td>\n",
       "      <td>10001</td>\n",
       "      <td>2012-09-10 00:00:00</td>\n",
       "      <td>2012-09-11 00:00:00</td>\n",
       "      <td>13.50</td>\n",
       "      <td>1</td>\n",
       "      <td>13.50</td>\n",
       "      <td>4</td>\n",
       "      <td>727</td>\n",
       "      <td>5</td>\n",
       "    </tr>\n",
       "    <tr>\n",
       "      <th>49567</th>\n",
       "      <td>1049568</td>\n",
       "      <td>1043014</td>\n",
       "      <td>10001</td>\n",
       "      <td>2012-09-12 00:00:00</td>\n",
       "      <td>2012-09-13 00:00:00</td>\n",
       "      <td>13.50</td>\n",
       "      <td>1</td>\n",
       "      <td>13.50</td>\n",
       "      <td>5</td>\n",
       "      <td>727</td>\n",
       "      <td>5</td>\n",
       "    </tr>\n",
       "    <tr>\n",
       "      <th>49577</th>\n",
       "      <td>1049578</td>\n",
       "      <td>1043935</td>\n",
       "      <td>10001</td>\n",
       "      <td>2012-09-12 00:00:00</td>\n",
       "      <td>2012-09-13 00:00:00</td>\n",
       "      <td>13.50</td>\n",
       "      <td>1</td>\n",
       "      <td>13.50</td>\n",
       "      <td>6</td>\n",
       "      <td>727</td>\n",
       "      <td>5</td>\n",
       "    </tr>\n",
       "  </tbody>\n",
       "</table>\n",
       "</div>"
      ],
      "text/plain": [
       "       orderlineid  orderid  productid             shipdate  \\\n",
       "48006      1048007  1042778      10001  2012-08-29 00:00:00   \n",
       "48069      1048070  1042792      10001  2012-08-29 00:00:00   \n",
       "48808      1048809  1042112      10001  2012-09-05 00:00:00   \n",
       "49565      1049566  1042297      10001  2012-09-10 00:00:00   \n",
       "49567      1049568  1043014      10001  2012-09-12 00:00:00   \n",
       "49577      1049578  1043935      10001  2012-09-12 00:00:00   \n",
       "\n",
       "                  billdate  unitprice  numunits  totalprice  No_cumm  \\\n",
       "48006  2012-08-30 00:00:00      13.35         1       13.35        1   \n",
       "48069  2012-08-30 00:00:00      13.50         1       13.50        2   \n",
       "48808  2012-09-06 00:00:00      13.35         1       13.35        3   \n",
       "49565  2012-09-11 00:00:00      13.50         1       13.50        4   \n",
       "49567  2012-09-13 00:00:00      13.50         1       13.50        5   \n",
       "49577  2012-09-13 00:00:00      13.50         1       13.50        6   \n",
       "\n",
       "       total_trx  total_5trx  \n",
       "48006        727           5  \n",
       "48069        727           5  \n",
       "48808        727           5  \n",
       "49565        727           5  \n",
       "49567        727           5  \n",
       "49577        727           5  "
      ]
     },
     "execution_count": 163,
     "metadata": {},
     "output_type": "execute_result"
    }
   ],
   "source": [
    "df[df['productid']==10001].head(6)"
   ]
  },
  {
   "cell_type": "code",
   "execution_count": 150,
   "metadata": {
    "collapsed": false
   },
   "outputs": [
    {
     "data": {
      "text/html": [
       "<div>\n",
       "<table border=\"1\" class=\"dataframe\">\n",
       "  <thead>\n",
       "    <tr style=\"text-align: right;\">\n",
       "      <th></th>\n",
       "      <th>orderlineid</th>\n",
       "      <th>orderid</th>\n",
       "      <th>productid</th>\n",
       "      <th>shipdate</th>\n",
       "      <th>billdate</th>\n",
       "      <th>unitprice</th>\n",
       "      <th>numunits</th>\n",
       "      <th>totalprice</th>\n",
       "      <th>No_cumm</th>\n",
       "      <th>total_trx</th>\n",
       "      <th>total_5trx</th>\n",
       "    </tr>\n",
       "  </thead>\n",
       "  <tbody>\n",
       "    <tr>\n",
       "      <th>0</th>\n",
       "      <td>1010561</td>\n",
       "      <td>1006414</td>\n",
       "      <td>10834</td>\n",
       "      <td>2011-03-07 00:00:00</td>\n",
       "      <td>2011-03-08 00:00:00</td>\n",
       "      <td>18.00</td>\n",
       "      <td>1</td>\n",
       "      <td>18.00</td>\n",
       "      <td>1</td>\n",
       "      <td>3866</td>\n",
       "      <td>NaN</td>\n",
       "    </tr>\n",
       "    <tr>\n",
       "      <th>1</th>\n",
       "      <td>1010562</td>\n",
       "      <td>1006541</td>\n",
       "      <td>11052</td>\n",
       "      <td>2011-01-19 00:00:00</td>\n",
       "      <td>2011-01-20 00:00:00</td>\n",
       "      <td>10.00</td>\n",
       "      <td>2</td>\n",
       "      <td>20.00</td>\n",
       "      <td>2</td>\n",
       "      <td>2765</td>\n",
       "      <td>NaN</td>\n",
       "    </tr>\n",
       "    <tr>\n",
       "      <th>2</th>\n",
       "      <td>1010563</td>\n",
       "      <td>1006542</td>\n",
       "      <td>11070</td>\n",
       "      <td>2011-01-19 00:00:00</td>\n",
       "      <td>2011-01-20 00:00:00</td>\n",
       "      <td>19.12</td>\n",
       "      <td>1</td>\n",
       "      <td>19.12</td>\n",
       "      <td>1</td>\n",
       "      <td>2515</td>\n",
       "      <td>NaN</td>\n",
       "    </tr>\n",
       "    <tr>\n",
       "      <th>3</th>\n",
       "      <td>1010564</td>\n",
       "      <td>1010154</td>\n",
       "      <td>11196</td>\n",
       "      <td>2009-11-19 00:00:00</td>\n",
       "      <td>2009-11-20 00:00:00</td>\n",
       "      <td>14.95</td>\n",
       "      <td>1</td>\n",
       "      <td>14.95</td>\n",
       "      <td>1</td>\n",
       "      <td>9490</td>\n",
       "      <td>NaN</td>\n",
       "    </tr>\n",
       "    <tr>\n",
       "      <th>4</th>\n",
       "      <td>1010565</td>\n",
       "      <td>1009110</td>\n",
       "      <td>11048</td>\n",
       "      <td>2009-11-11 00:00:00</td>\n",
       "      <td>2009-11-12 00:00:00</td>\n",
       "      <td>10.00</td>\n",
       "      <td>2</td>\n",
       "      <td>20.00</td>\n",
       "      <td>2</td>\n",
       "      <td>4623</td>\n",
       "      <td>NaN</td>\n",
       "    </tr>\n",
       "  </tbody>\n",
       "</table>\n",
       "</div>"
      ],
      "text/plain": [
       "   orderlineid  orderid  productid             shipdate             billdate  \\\n",
       "0      1010561  1006414      10834  2011-03-07 00:00:00  2011-03-08 00:00:00   \n",
       "1      1010562  1006541      11052  2011-01-19 00:00:00  2011-01-20 00:00:00   \n",
       "2      1010563  1006542      11070  2011-01-19 00:00:00  2011-01-20 00:00:00   \n",
       "3      1010564  1010154      11196  2009-11-19 00:00:00  2009-11-20 00:00:00   \n",
       "4      1010565  1009110      11048  2009-11-11 00:00:00  2009-11-12 00:00:00   \n",
       "\n",
       "   unitprice  numunits  totalprice  No_cumm  total_trx  total_5trx  \n",
       "0      18.00         1       18.00        1       3866         NaN  \n",
       "1      10.00         2       20.00        2       2765         NaN  \n",
       "2      19.12         1       19.12        1       2515         NaN  \n",
       "3      14.95         1       14.95        1       9490         NaN  \n",
       "4      10.00         2       20.00        2       4623         NaN  "
      ]
     },
     "execution_count": 150,
     "metadata": {},
     "output_type": "execute_result"
    }
   ],
   "source": [
    "#df.ix[82969,]\n",
    "df.head(5)\n"
   ]
  },
  {
   "cell_type": "code",
   "execution_count": 188,
   "metadata": {
    "collapsed": false
   },
   "outputs": [],
   "source": [
    "df = df.drop(['exclue_5_trx','total_5trx'],axis=1)"
   ]
  },
  {
   "cell_type": "code",
   "execution_count": 191,
   "metadata": {
    "collapsed": false
   },
   "outputs": [
    {
     "name": "stdout",
     "output_type": "stream",
     "text": [
      "       orderlineid  orderid  productid             shipdate  \\\n",
      "48006      1048007  1042778      10001  2012-08-29 00:00:00   \n",
      "48069      1048070  1042792      10001  2012-08-29 00:00:00   \n",
      "48808      1048809  1042112      10001  2012-09-05 00:00:00   \n",
      "49565      1049566  1042297      10001  2012-09-10 00:00:00   \n",
      "49567      1049568  1043014      10001  2012-09-12 00:00:00   \n",
      "49577      1049578  1043935      10001  2012-09-12 00:00:00   \n",
      "\n",
      "                  billdate  unitprice  numunits  totalprice  No_cumm  \\\n",
      "48006  2012-08-30 00:00:00      13.35         1       13.35        1   \n",
      "48069  2012-08-30 00:00:00      13.50         1       13.50        2   \n",
      "48808  2012-09-06 00:00:00      13.35         1       13.35        3   \n",
      "49565  2012-09-11 00:00:00      13.50         1       13.50        4   \n",
      "49567  2012-09-13 00:00:00      13.50         1       13.50        5   \n",
      "49577  2012-09-13 00:00:00      13.50         1       13.50        6   \n",
      "\n",
      "       total_trx  total_5trx  total_5amt  \n",
      "48006        727           5       68.55  \n",
      "48069        727           5       68.55  \n",
      "48808        727           5       68.55  \n",
      "49565        727           5       68.55  \n",
      "49567        727           5       68.55  \n",
      "49577        727           5       68.55  \n"
     ]
    }
   ],
   "source": [
    "print(df[df['productid']==10001].head(6))"
   ]
  },
  {
   "cell_type": "code",
   "execution_count": 190,
   "metadata": {
    "collapsed": false
   },
   "outputs": [
    {
     "name": "stdout",
     "output_type": "stream",
     "text": [
      "   productid  total_5trx  total_5amt\n",
      "0      10001           5       68.55\n",
      "1      10002           8       87.60\n",
      "2      10003          11      117.15\n",
      "3      10004           5      380.18\n",
      "4      10005           5       76.80\n",
      "5      10006           6       44.25\n",
      "6      10007           5       38.75\n",
      "7      10008           5       54.75\n",
      "8      10009           9       92.55\n",
      "9      10010           5       57.75\n"
     ]
    }
   ],
   "source": [
    "df.reset_index()\n",
    "\n",
    "df5 = df.sort_values(by=['productid']).groupby(['productid']).head(5).groupby(['productid']).agg({'numunits': np.sum,'totalprice':np.sum}).reset_index()\n",
    "\n",
    "df5 = df5.rename(columns={'numunits':'total_5trx','totalprice':'total_5amt'})\n",
    "\n",
    "df = pd.merge(df,df5,on='productid',how='left') \n",
    "print(df5.head(10))\n"
   ]
  },
  {
   "cell_type": "code",
   "execution_count": 19,
   "metadata": {
    "collapsed": false
   },
   "outputs": [
    {
     "ename": "KeyError",
     "evalue": "'total_5trx'",
     "output_type": "error",
     "traceback": [
      "\u001b[1;31m---------------------------------------------------------------------------\u001b[0m",
      "\u001b[1;31mKeyError\u001b[0m                                  Traceback (most recent call last)",
      "\u001b[1;32m<ipython-input-19-7ccb902518e7>\u001b[0m in \u001b[0;36m<module>\u001b[1;34m()\u001b[0m\n\u001b[1;32m----> 1\u001b[1;33m \u001b[0mdf\u001b[0m\u001b[1;33m[\u001b[0m\u001b[1;34m'exclue_5_trx'\u001b[0m\u001b[1;33m]\u001b[0m \u001b[1;33m=\u001b[0m \u001b[0mdf\u001b[0m\u001b[1;33m[\u001b[0m\u001b[1;34m'total_trx'\u001b[0m\u001b[1;33m]\u001b[0m \u001b[1;33m-\u001b[0m \u001b[0mdf\u001b[0m\u001b[1;33m[\u001b[0m\u001b[1;34m'total_5trx'\u001b[0m\u001b[1;33m]\u001b[0m\u001b[1;33m\u001b[0m\u001b[0m\n\u001b[0m",
      "\u001b[1;32mC:\\Continuum\\Anaconda2\\lib\\site-packages\\pandas\\core\\frame.pyc\u001b[0m in \u001b[0;36m__getitem__\u001b[1;34m(self, key)\u001b[0m\n\u001b[0;32m   1995\u001b[0m             \u001b[1;32mreturn\u001b[0m \u001b[0mself\u001b[0m\u001b[1;33m.\u001b[0m\u001b[0m_getitem_multilevel\u001b[0m\u001b[1;33m(\u001b[0m\u001b[0mkey\u001b[0m\u001b[1;33m)\u001b[0m\u001b[1;33m\u001b[0m\u001b[0m\n\u001b[0;32m   1996\u001b[0m         \u001b[1;32melse\u001b[0m\u001b[1;33m:\u001b[0m\u001b[1;33m\u001b[0m\u001b[0m\n\u001b[1;32m-> 1997\u001b[1;33m             \u001b[1;32mreturn\u001b[0m \u001b[0mself\u001b[0m\u001b[1;33m.\u001b[0m\u001b[0m_getitem_column\u001b[0m\u001b[1;33m(\u001b[0m\u001b[0mkey\u001b[0m\u001b[1;33m)\u001b[0m\u001b[1;33m\u001b[0m\u001b[0m\n\u001b[0m\u001b[0;32m   1998\u001b[0m \u001b[1;33m\u001b[0m\u001b[0m\n\u001b[0;32m   1999\u001b[0m     \u001b[1;32mdef\u001b[0m \u001b[0m_getitem_column\u001b[0m\u001b[1;33m(\u001b[0m\u001b[0mself\u001b[0m\u001b[1;33m,\u001b[0m \u001b[0mkey\u001b[0m\u001b[1;33m)\u001b[0m\u001b[1;33m:\u001b[0m\u001b[1;33m\u001b[0m\u001b[0m\n",
      "\u001b[1;32mC:\\Continuum\\Anaconda2\\lib\\site-packages\\pandas\\core\\frame.pyc\u001b[0m in \u001b[0;36m_getitem_column\u001b[1;34m(self, key)\u001b[0m\n\u001b[0;32m   2002\u001b[0m         \u001b[1;31m# get column\u001b[0m\u001b[1;33m\u001b[0m\u001b[1;33m\u001b[0m\u001b[0m\n\u001b[0;32m   2003\u001b[0m         \u001b[1;32mif\u001b[0m \u001b[0mself\u001b[0m\u001b[1;33m.\u001b[0m\u001b[0mcolumns\u001b[0m\u001b[1;33m.\u001b[0m\u001b[0mis_unique\u001b[0m\u001b[1;33m:\u001b[0m\u001b[1;33m\u001b[0m\u001b[0m\n\u001b[1;32m-> 2004\u001b[1;33m             \u001b[1;32mreturn\u001b[0m \u001b[0mself\u001b[0m\u001b[1;33m.\u001b[0m\u001b[0m_get_item_cache\u001b[0m\u001b[1;33m(\u001b[0m\u001b[0mkey\u001b[0m\u001b[1;33m)\u001b[0m\u001b[1;33m\u001b[0m\u001b[0m\n\u001b[0m\u001b[0;32m   2005\u001b[0m \u001b[1;33m\u001b[0m\u001b[0m\n\u001b[0;32m   2006\u001b[0m         \u001b[1;31m# duplicate columns & possible reduce dimensionality\u001b[0m\u001b[1;33m\u001b[0m\u001b[1;33m\u001b[0m\u001b[0m\n",
      "\u001b[1;32mC:\\Continuum\\Anaconda2\\lib\\site-packages\\pandas\\core\\generic.pyc\u001b[0m in \u001b[0;36m_get_item_cache\u001b[1;34m(self, item)\u001b[0m\n\u001b[0;32m   1348\u001b[0m         \u001b[0mres\u001b[0m \u001b[1;33m=\u001b[0m \u001b[0mcache\u001b[0m\u001b[1;33m.\u001b[0m\u001b[0mget\u001b[0m\u001b[1;33m(\u001b[0m\u001b[0mitem\u001b[0m\u001b[1;33m)\u001b[0m\u001b[1;33m\u001b[0m\u001b[0m\n\u001b[0;32m   1349\u001b[0m         \u001b[1;32mif\u001b[0m \u001b[0mres\u001b[0m \u001b[1;32mis\u001b[0m \u001b[0mNone\u001b[0m\u001b[1;33m:\u001b[0m\u001b[1;33m\u001b[0m\u001b[0m\n\u001b[1;32m-> 1350\u001b[1;33m             \u001b[0mvalues\u001b[0m \u001b[1;33m=\u001b[0m \u001b[0mself\u001b[0m\u001b[1;33m.\u001b[0m\u001b[0m_data\u001b[0m\u001b[1;33m.\u001b[0m\u001b[0mget\u001b[0m\u001b[1;33m(\u001b[0m\u001b[0mitem\u001b[0m\u001b[1;33m)\u001b[0m\u001b[1;33m\u001b[0m\u001b[0m\n\u001b[0m\u001b[0;32m   1351\u001b[0m             \u001b[0mres\u001b[0m \u001b[1;33m=\u001b[0m \u001b[0mself\u001b[0m\u001b[1;33m.\u001b[0m\u001b[0m_box_item_values\u001b[0m\u001b[1;33m(\u001b[0m\u001b[0mitem\u001b[0m\u001b[1;33m,\u001b[0m \u001b[0mvalues\u001b[0m\u001b[1;33m)\u001b[0m\u001b[1;33m\u001b[0m\u001b[0m\n\u001b[0;32m   1352\u001b[0m             \u001b[0mcache\u001b[0m\u001b[1;33m[\u001b[0m\u001b[0mitem\u001b[0m\u001b[1;33m]\u001b[0m \u001b[1;33m=\u001b[0m \u001b[0mres\u001b[0m\u001b[1;33m\u001b[0m\u001b[0m\n",
      "\u001b[1;32mC:\\Continuum\\Anaconda2\\lib\\site-packages\\pandas\\core\\internals.pyc\u001b[0m in \u001b[0;36mget\u001b[1;34m(self, item, fastpath)\u001b[0m\n\u001b[0;32m   3288\u001b[0m \u001b[1;33m\u001b[0m\u001b[0m\n\u001b[0;32m   3289\u001b[0m             \u001b[1;32mif\u001b[0m \u001b[1;32mnot\u001b[0m \u001b[0misnull\u001b[0m\u001b[1;33m(\u001b[0m\u001b[0mitem\u001b[0m\u001b[1;33m)\u001b[0m\u001b[1;33m:\u001b[0m\u001b[1;33m\u001b[0m\u001b[0m\n\u001b[1;32m-> 3290\u001b[1;33m                 \u001b[0mloc\u001b[0m \u001b[1;33m=\u001b[0m \u001b[0mself\u001b[0m\u001b[1;33m.\u001b[0m\u001b[0mitems\u001b[0m\u001b[1;33m.\u001b[0m\u001b[0mget_loc\u001b[0m\u001b[1;33m(\u001b[0m\u001b[0mitem\u001b[0m\u001b[1;33m)\u001b[0m\u001b[1;33m\u001b[0m\u001b[0m\n\u001b[0m\u001b[0;32m   3291\u001b[0m             \u001b[1;32melse\u001b[0m\u001b[1;33m:\u001b[0m\u001b[1;33m\u001b[0m\u001b[0m\n\u001b[0;32m   3292\u001b[0m                 \u001b[0mindexer\u001b[0m \u001b[1;33m=\u001b[0m \u001b[0mnp\u001b[0m\u001b[1;33m.\u001b[0m\u001b[0marange\u001b[0m\u001b[1;33m(\u001b[0m\u001b[0mlen\u001b[0m\u001b[1;33m(\u001b[0m\u001b[0mself\u001b[0m\u001b[1;33m.\u001b[0m\u001b[0mitems\u001b[0m\u001b[1;33m)\u001b[0m\u001b[1;33m)\u001b[0m\u001b[1;33m[\u001b[0m\u001b[0misnull\u001b[0m\u001b[1;33m(\u001b[0m\u001b[0mself\u001b[0m\u001b[1;33m.\u001b[0m\u001b[0mitems\u001b[0m\u001b[1;33m)\u001b[0m\u001b[1;33m]\u001b[0m\u001b[1;33m\u001b[0m\u001b[0m\n",
      "\u001b[1;32mC:\\Continuum\\Anaconda2\\lib\\site-packages\\pandas\\indexes\\base.pyc\u001b[0m in \u001b[0;36mget_loc\u001b[1;34m(self, key, method, tolerance)\u001b[0m\n\u001b[0;32m   1945\u001b[0m                 \u001b[1;32mreturn\u001b[0m \u001b[0mself\u001b[0m\u001b[1;33m.\u001b[0m\u001b[0m_engine\u001b[0m\u001b[1;33m.\u001b[0m\u001b[0mget_loc\u001b[0m\u001b[1;33m(\u001b[0m\u001b[0mkey\u001b[0m\u001b[1;33m)\u001b[0m\u001b[1;33m\u001b[0m\u001b[0m\n\u001b[0;32m   1946\u001b[0m             \u001b[1;32mexcept\u001b[0m \u001b[0mKeyError\u001b[0m\u001b[1;33m:\u001b[0m\u001b[1;33m\u001b[0m\u001b[0m\n\u001b[1;32m-> 1947\u001b[1;33m                 \u001b[1;32mreturn\u001b[0m \u001b[0mself\u001b[0m\u001b[1;33m.\u001b[0m\u001b[0m_engine\u001b[0m\u001b[1;33m.\u001b[0m\u001b[0mget_loc\u001b[0m\u001b[1;33m(\u001b[0m\u001b[0mself\u001b[0m\u001b[1;33m.\u001b[0m\u001b[0m_maybe_cast_indexer\u001b[0m\u001b[1;33m(\u001b[0m\u001b[0mkey\u001b[0m\u001b[1;33m)\u001b[0m\u001b[1;33m)\u001b[0m\u001b[1;33m\u001b[0m\u001b[0m\n\u001b[0m\u001b[0;32m   1948\u001b[0m \u001b[1;33m\u001b[0m\u001b[0m\n\u001b[0;32m   1949\u001b[0m         \u001b[0mindexer\u001b[0m \u001b[1;33m=\u001b[0m \u001b[0mself\u001b[0m\u001b[1;33m.\u001b[0m\u001b[0mget_indexer\u001b[0m\u001b[1;33m(\u001b[0m\u001b[1;33m[\u001b[0m\u001b[0mkey\u001b[0m\u001b[1;33m]\u001b[0m\u001b[1;33m,\u001b[0m \u001b[0mmethod\u001b[0m\u001b[1;33m=\u001b[0m\u001b[0mmethod\u001b[0m\u001b[1;33m,\u001b[0m \u001b[0mtolerance\u001b[0m\u001b[1;33m=\u001b[0m\u001b[0mtolerance\u001b[0m\u001b[1;33m)\u001b[0m\u001b[1;33m\u001b[0m\u001b[0m\n",
      "\u001b[1;32mpandas\\index.pyx\u001b[0m in \u001b[0;36mpandas.index.IndexEngine.get_loc (pandas\\index.c:4154)\u001b[1;34m()\u001b[0m\n",
      "\u001b[1;32mpandas\\index.pyx\u001b[0m in \u001b[0;36mpandas.index.IndexEngine.get_loc (pandas\\index.c:4018)\u001b[1;34m()\u001b[0m\n",
      "\u001b[1;32mpandas\\hashtable.pyx\u001b[0m in \u001b[0;36mpandas.hashtable.PyObjectHashTable.get_item (pandas\\hashtable.c:12368)\u001b[1;34m()\u001b[0m\n",
      "\u001b[1;32mpandas\\hashtable.pyx\u001b[0m in \u001b[0;36mpandas.hashtable.PyObjectHashTable.get_item (pandas\\hashtable.c:12322)\u001b[1;34m()\u001b[0m\n",
      "\u001b[1;31mKeyError\u001b[0m: 'total_5trx'"
     ]
    }
   ],
   "source": [
    "df['exclue_5_trx'] = df['total_trx'] - df['total_5trx']\n"
   ]
  },
  {
   "cell_type": "code",
   "execution_count": null,
   "metadata": {
    "collapsed": true
   },
   "outputs": [],
   "source": [
    "df['exclude_5_amt'] = df[df['total_5trx']>df[]]"
   ]
  },
  {
   "cell_type": "code",
   "execution_count": 264,
   "metadata": {
    "collapsed": false
   },
   "outputs": [
    {
     "name": "stdout",
     "output_type": "stream",
     "text": [
      "       productid             billdate  numunits  totalprice  No_cumm  \\\n",
      "40262      10006  2010-11-25 00:00:00         1         7.5       51   \n",
      "40349      10006  2010-11-25 00:00:00         1         7.5       52   \n",
      "40418      10006  2010-11-25 00:00:00         1         7.5       53   \n",
      "40464      10006  2010-11-25 00:00:00         1         7.5       54   \n",
      "40467      10006  2010-11-25 00:00:00         1         7.5       55   \n",
      "40558      10006  2010-11-25 00:00:00         1         7.5       56   \n",
      "40559      10006  2010-11-25 00:00:00         1         7.5       57   \n",
      "40567      10006  2010-11-25 00:00:00         1         7.5       58   \n",
      "40650      10006  2010-11-25 00:00:00         1         7.5       59   \n",
      "40652      10006  2010-11-25 00:00:00         1         7.5       60   \n",
      "\n",
      "       total_trx  rankProd  \n",
      "40262       2329        51  \n",
      "40349       2329        52  \n",
      "40418       2329        53  \n",
      "40464       2329        54  \n",
      "40467       2329        55  \n",
      "40558       2329        56  \n",
      "40559       2329        57  \n",
      "40567       2329        58  \n",
      "40650       2329        59  \n",
      "40652       2329        60  \n"
     ]
    }
   ],
   "source": [
    "df10006 = df[df['productid']==10006].sort_values(['rankProd'],ascending=1)\n",
    "\n",
    "print(df10006[['productid','billdate','numunits','totalprice','No_cumm','total_trx','rankProd']][50:60])"
   ]
  },
  {
   "cell_type": "code",
   "execution_count": 259,
   "metadata": {
    "collapsed": false
   },
   "outputs": [
    {
     "name": "stdout",
     "output_type": "stream",
     "text": [
      "        productid             billdate  numunits  totalprice  No_cumm  \\\n",
      "123587      10004  2013-08-27 00:00:00         1       90.95        1   \n",
      "123960      10004  2013-08-27 00:00:00         1       77.31        2   \n",
      "124005      10004  2013-08-27 00:00:00         1       72.76        3   \n",
      "124007      10004  2013-08-27 00:00:00         1       72.76        4   \n",
      "124094      10004  2013-08-27 00:00:00         1       72.75        5   \n",
      "124097      10004  2013-08-27 00:00:00         1       72.76        6   \n",
      "124315      10004  2013-08-27 00:00:00         1       72.76        7   \n",
      "124316      10004  2013-08-27 00:00:00         1       72.76        8   \n",
      "124317      10004  2013-08-27 00:00:00         1       72.76        9   \n",
      "124349      10004  2013-08-27 00:00:00         1       72.76       10   \n",
      "124365      10004  2013-08-27 00:00:00         1       72.76       11   \n",
      "124367      10004  2013-08-27 00:00:00         1       72.76       12   \n",
      "124413      10004  2013-08-27 00:00:00         1       70.95       13   \n",
      "124415      10004  2013-08-27 00:00:00         1       72.76       14   \n",
      "124417      10004  2013-08-27 00:00:00         1       90.95       15   \n",
      "124453      10004  2013-08-27 00:00:00         1       72.75       16   \n",
      "124534      10004  2013-08-27 00:00:00         1       72.76       17   \n",
      "124574      10004  2013-08-27 00:00:00         1       90.95       18   \n",
      "125105      10004  2013-08-27 00:00:00         1       72.76       19   \n",
      "126835      10004  2013-08-27 00:00:00         1       81.95       20   \n",
      "127083      10004  2013-08-27 00:00:00         1       70.95       21   \n",
      "128966      10004  2013-08-27 00:00:00         1       72.76       22   \n",
      "129271      10004  2013-08-27 00:00:00         1       72.76       23   \n",
      "129372      10004  2013-08-27 00:00:00         1       72.75       24   \n",
      "132674      10004  2013-09-10 00:00:00         1       72.75       25   \n",
      "132750      10004  2013-09-10 00:00:00         1       72.75       26   \n",
      "132963      10004  2013-09-10 00:00:00         1       81.85       27   \n",
      "134483      10004  2013-09-10 00:00:00         1       90.95       28   \n",
      "136099      10004  2013-09-10 00:00:00         1       90.95       29   \n",
      "136178      10004  2013-09-10 00:00:00         1       90.95       30   \n",
      "136955      10004  2013-09-13 00:00:00         1       90.95       31   \n",
      "137922      10004  2013-09-13 00:00:00         1       90.95       32   \n",
      "131889      10004  2013-12-03 00:00:00         1       90.95       33   \n",
      "178204      10004  2014-11-15 00:00:00         1       81.85       34   \n",
      "\n",
      "        total_trx  rankProd  \n",
      "123587         34         1  \n",
      "123960         34         2  \n",
      "124005         34         3  \n",
      "124007         34         4  \n",
      "124094         34         5  \n",
      "124097         34         6  \n",
      "124315         34         7  \n",
      "124316         34         8  \n",
      "124317         34         9  \n",
      "124349         34        10  \n",
      "124365         34        11  \n",
      "124367         34        12  \n",
      "124413         34        13  \n",
      "124415         34        14  \n",
      "124417         34        15  \n",
      "124453         34        16  \n",
      "124534         34        17  \n",
      "124574         34        18  \n",
      "125105         34        19  \n",
      "126835         34        20  \n",
      "127083         34        21  \n",
      "128966         34        22  \n",
      "129271         34        23  \n",
      "129372         34        24  \n",
      "132674         34        25  \n",
      "132750         34        26  \n",
      "132963         34        27  \n",
      "134483         34        28  \n",
      "136099         34        29  \n",
      "136178         34        30  \n",
      "136955         34        31  \n",
      "137922         34        32  \n",
      "131889         34        33  \n",
      "178204         34        34  \n"
     ]
    }
   ],
   "source": [
    "df10006 = df[df['productid']==10004].sort_values(['rankProd'],ascending=1).head(50)\n",
    "\n",
    "print(df10006[['productid','billdate','numunits','totalprice','No_cumm','total_trx','rankProd']].head(50))"
   ]
  },
  {
   "cell_type": "code",
   "execution_count": 212,
   "metadata": {
    "collapsed": false
   },
   "outputs": [
    {
     "data": {
      "text/html": [
       "<div>\n",
       "<table border=\"1\" class=\"dataframe\">\n",
       "  <thead>\n",
       "    <tr>\n",
       "      <th></th>\n",
       "      <th>productid</th>\n",
       "      <th colspan=\"2\" halign=\"left\">rankProd</th>\n",
       "    </tr>\n",
       "    <tr>\n",
       "      <th></th>\n",
       "      <th></th>\n",
       "      <th>amin</th>\n",
       "      <th>amax</th>\n",
       "    </tr>\n",
       "  </thead>\n",
       "  <tbody>\n",
       "    <tr>\n",
       "      <th>0</th>\n",
       "      <td>10001</td>\n",
       "      <td>1</td>\n",
       "      <td>256</td>\n",
       "    </tr>\n",
       "    <tr>\n",
       "      <th>1</th>\n",
       "      <td>10002</td>\n",
       "      <td>1</td>\n",
       "      <td>230</td>\n",
       "    </tr>\n",
       "    <tr>\n",
       "      <th>2</th>\n",
       "      <td>10003</td>\n",
       "      <td>1</td>\n",
       "      <td>172</td>\n",
       "    </tr>\n",
       "    <tr>\n",
       "      <th>3</th>\n",
       "      <td>10004</td>\n",
       "      <td>1</td>\n",
       "      <td>34</td>\n",
       "    </tr>\n",
       "    <tr>\n",
       "      <th>4</th>\n",
       "      <td>10005</td>\n",
       "      <td>1</td>\n",
       "      <td>1703</td>\n",
       "    </tr>\n",
       "    <tr>\n",
       "      <th>5</th>\n",
       "      <td>10006</td>\n",
       "      <td>1</td>\n",
       "      <td>1524</td>\n",
       "    </tr>\n",
       "    <tr>\n",
       "      <th>6</th>\n",
       "      <td>10007</td>\n",
       "      <td>1</td>\n",
       "      <td>2546</td>\n",
       "    </tr>\n",
       "    <tr>\n",
       "      <th>7</th>\n",
       "      <td>10008</td>\n",
       "      <td>1</td>\n",
       "      <td>1290</td>\n",
       "    </tr>\n",
       "    <tr>\n",
       "      <th>8</th>\n",
       "      <td>10009</td>\n",
       "      <td>1</td>\n",
       "      <td>49</td>\n",
       "    </tr>\n",
       "    <tr>\n",
       "      <th>9</th>\n",
       "      <td>10010</td>\n",
       "      <td>1</td>\n",
       "      <td>668</td>\n",
       "    </tr>\n",
       "  </tbody>\n",
       "</table>\n",
       "</div>"
      ],
      "text/plain": [
       "  productid rankProd      \n",
       "                amin  amax\n",
       "0     10001        1   256\n",
       "1     10002        1   230\n",
       "2     10003        1   172\n",
       "3     10004        1    34\n",
       "4     10005        1  1703\n",
       "5     10006        1  1524\n",
       "6     10007        1  2546\n",
       "7     10008        1  1290\n",
       "8     10009        1    49\n",
       "9     10010        1   668"
      ]
     },
     "execution_count": 212,
     "metadata": {},
     "output_type": "execute_result"
    }
   ],
   "source": [
    "df.groupby('productid').agg({'rankProd':[np.min,np.max]}).reset_index().head(10)"
   ]
  },
  {
   "cell_type": "code",
   "execution_count": 271,
   "metadata": {
    "collapsed": false
   },
   "outputs": [],
   "source": [
    "df['gt_5_nu'] =  df[df['rankProd']<=5].groupby(['productid'])['numunits'].transform(np.sum)"
   ]
  },
  {
   "cell_type": "code",
   "execution_count": 279,
   "metadata": {
    "collapsed": false
   },
   "outputs": [
    {
     "name": "stdout",
     "output_type": "stream",
     "text": [
      "      orderlineid  orderid  productid             shipdate  \\\n",
      "1368      1000049  1000066      10006  2010-11-24 00:00:00   \n",
      "1379      1000060  1000037      10006  2011-01-11 00:00:00   \n",
      "1383      1000064  1000104      10006  2011-01-11 00:00:00   \n",
      "1408      1000089  1000124      10006  2010-11-24 00:00:00   \n",
      "1421      1000102  1000108      10006  2011-01-11 00:00:00   \n",
      "1435      1000116  1000138      10006  2010-11-24 00:00:00   \n",
      "1462      1000143  1000114      10006  2010-12-23 00:00:00   \n",
      "1469      1000150  1000333      10006  2010-11-24 00:00:00   \n",
      "1517      1000198  1000367      10006  2010-11-24 00:00:00   \n",
      "1518      1000199  1000257      10006  2010-12-17 00:00:00   \n",
      "\n",
      "                 billdate  unitprice  numunits  totalprice  No_cumm  \\\n",
      "1368  2010-11-25 00:00:00       7.50         1        7.50        1   \n",
      "1379  2011-01-12 00:00:00       6.75         1        6.75      871   \n",
      "1383  2011-01-12 00:00:00       7.50         1        7.50      872   \n",
      "1408  2010-11-25 00:00:00       7.50         2       15.00     1260   \n",
      "1421  2011-01-12 00:00:00       6.75         2       13.50     1510   \n",
      "1435  2010-11-25 00:00:00       7.50         1        7.50        2   \n",
      "1462  2010-12-24 00:00:00       7.50         1        7.50      576   \n",
      "1469  2010-11-25 00:00:00       7.50         1        7.50        3   \n",
      "1517  2010-11-25 00:00:00       7.50         4       30.00     1704   \n",
      "1518  2010-12-18 00:00:00       7.50         4       30.00     1784   \n",
      "\n",
      "      total_trx  total_5trx  total_5amt  total_amt  rankProd  \n",
      "1368       2329           6       44.25    15414.4         1  \n",
      "1379       2329           6       44.25    15414.4         2  \n",
      "1383       2329           6       44.25    15414.4         3  \n",
      "1408       2329           6       44.25    15414.4         4  \n",
      "1421       2329           6       44.25    15414.4         5  \n",
      "1435       2329           6       44.25    15414.4         6  \n",
      "1462       2329           6       44.25    15414.4         7  \n",
      "1469       2329           6       44.25    15414.4         8  \n",
      "1517       2329           6       44.25    15414.4         9  \n",
      "1518       2329           6       44.25    15414.4        10  \n"
     ]
    }
   ],
   "source": [
    "print(df[df['productid']==10006].sort_values(['rankProd'],ascending=1).head(10))"
   ]
  },
  {
   "cell_type": "code",
   "execution_count": 283,
   "metadata": {
    "collapsed": false
   },
   "outputs": [],
   "source": [
    "dftmp = df[df['rankProd']<=8].groupby(['productid']).agg({'numunits':np.sum}).reset_index()"
   ]
  },
  {
   "cell_type": "code",
   "execution_count": 284,
   "metadata": {
    "collapsed": false
   },
   "outputs": [
    {
     "data": {
      "text/html": [
       "<div>\n",
       "<table border=\"1\" class=\"dataframe\">\n",
       "  <thead>\n",
       "    <tr style=\"text-align: right;\">\n",
       "      <th></th>\n",
       "      <th>productid</th>\n",
       "      <th>numunits</th>\n",
       "    </tr>\n",
       "  </thead>\n",
       "  <tbody>\n",
       "    <tr>\n",
       "      <th>0</th>\n",
       "      <td>10001</td>\n",
       "      <td>8</td>\n",
       "    </tr>\n",
       "    <tr>\n",
       "      <th>1</th>\n",
       "      <td>10002</td>\n",
       "      <td>27</td>\n",
       "    </tr>\n",
       "    <tr>\n",
       "      <th>2</th>\n",
       "      <td>10003</td>\n",
       "      <td>13</td>\n",
       "    </tr>\n",
       "    <tr>\n",
       "      <th>3</th>\n",
       "      <td>10004</td>\n",
       "      <td>8</td>\n",
       "    </tr>\n",
       "    <tr>\n",
       "      <th>4</th>\n",
       "      <td>10005</td>\n",
       "      <td>8</td>\n",
       "    </tr>\n",
       "    <tr>\n",
       "      <th>5</th>\n",
       "      <td>10006</td>\n",
       "      <td>10</td>\n",
       "    </tr>\n",
       "    <tr>\n",
       "      <th>6</th>\n",
       "      <td>10007</td>\n",
       "      <td>8</td>\n",
       "    </tr>\n",
       "    <tr>\n",
       "      <th>7</th>\n",
       "      <td>10008</td>\n",
       "      <td>13</td>\n",
       "    </tr>\n",
       "    <tr>\n",
       "      <th>8</th>\n",
       "      <td>10009</td>\n",
       "      <td>8</td>\n",
       "    </tr>\n",
       "    <tr>\n",
       "      <th>9</th>\n",
       "      <td>10010</td>\n",
       "      <td>8</td>\n",
       "    </tr>\n",
       "  </tbody>\n",
       "</table>\n",
       "</div>"
      ],
      "text/plain": [
       "   productid  numunits\n",
       "0      10001         8\n",
       "1      10002        27\n",
       "2      10003        13\n",
       "3      10004         8\n",
       "4      10005         8\n",
       "5      10006        10\n",
       "6      10007         8\n",
       "7      10008        13\n",
       "8      10009         8\n",
       "9      10010         8"
      ]
     },
     "execution_count": 284,
     "metadata": {},
     "output_type": "execute_result"
    }
   ],
   "source": [
    "dftmp.head(10)"
   ]
  },
  {
   "cell_type": "code",
   "execution_count": null,
   "metadata": {
    "collapsed": true
   },
   "outputs": [],
   "source": []
  },
  {
   "cell_type": "code",
   "execution_count": null,
   "metadata": {
    "collapsed": true
   },
   "outputs": [],
   "source": []
  }
 ],
 "metadata": {
  "anaconda-cloud": {},
  "kernelspec": {
   "display_name": "Python [Root]",
   "language": "python",
   "name": "Python [Root]"
  },
  "language_info": {
   "codemirror_mode": {
    "name": "ipython",
    "version": 2
   },
   "file_extension": ".py",
   "mimetype": "text/x-python",
   "name": "python",
   "nbconvert_exporter": "python",
   "pygments_lexer": "ipython2",
   "version": "2.7.12"
  }
 },
 "nbformat": 4,
 "nbformat_minor": 0
}
