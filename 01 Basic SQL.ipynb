{
 "cells": [
  {
   "cell_type": "code",
   "execution_count": 2,
   "metadata": {
    "collapsed": true
   },
   "outputs": [],
   "source": [
    "import pandas as pd\n",
    "import numpy as np\n",
    "\n",
    "import os\n",
    "\n",
    "os.chdir(\"C:\\\\EclipseBytes\\\\CodeBaseDebo\\\\sql_excel\")\n"
   ]
  },
  {
   "cell_type": "code",
   "execution_count": 12,
   "metadata": {
    "collapsed": false
   },
   "outputs": [
    {
     "data": {
      "text/plain": [
       "(32038, 113)"
      ]
     },
     "execution_count": 12,
     "metadata": {},
     "output_type": "execute_result"
    }
   ],
   "source": [
    "zipcensus = pd.read_csv('zipcensus.txt',sep='\\t')\n",
    "#print(zipcensus.head(5))\n",
    "zipcensus.shape"
   ]
  },
  {
   "cell_type": "code",
   "execution_count": 4,
   "metadata": {
    "collapsed": false
   },
   "outputs": [
    {
     "data": {
      "text/html": [
       "<div>\n",
       "<table border=\"1\" class=\"dataframe\">\n",
       "  <thead>\n",
       "    <tr style=\"text-align: right;\">\n",
       "      <th></th>\n",
       "      <th>zipcode</th>\n",
       "    </tr>\n",
       "    <tr>\n",
       "      <th>state</th>\n",
       "      <th></th>\n",
       "    </tr>\n",
       "  </thead>\n",
       "  <tbody>\n",
       "    <tr>\n",
       "      <th>TX</th>\n",
       "      <td>1865</td>\n",
       "    </tr>\n",
       "    <tr>\n",
       "      <th>PA</th>\n",
       "      <td>1722</td>\n",
       "    </tr>\n",
       "    <tr>\n",
       "      <th>CA</th>\n",
       "      <td>1677</td>\n",
       "    </tr>\n",
       "    <tr>\n",
       "      <th>NY</th>\n",
       "      <td>1619</td>\n",
       "    </tr>\n",
       "    <tr>\n",
       "      <th>IL</th>\n",
       "      <td>1347</td>\n",
       "    </tr>\n",
       "  </tbody>\n",
       "</table>\n",
       "</div>"
      ],
      "text/plain": [
       "       zipcode\n",
       "state         \n",
       "TX        1865\n",
       "PA        1722\n",
       "CA        1677\n",
       "NY        1619\n",
       "IL        1347"
      ]
     },
     "execution_count": 4,
     "metadata": {},
     "output_type": "execute_result"
    }
   ],
   "source": [
    "# to reset index\n",
    "df1 = zipcensus[['zipcode','state',]].groupby('state').count().reset_index()\n",
    "\n",
    "\n",
    "# without resetting the index\n",
    "df = zipcensus[['zipcode','state',]].groupby('state').count()\n",
    "df.sort_values(by=['zipcode'],ascending=[False]).head(5)"
   ]
  },
  {
   "cell_type": "code",
   "execution_count": 8,
   "metadata": {
    "collapsed": false
   },
   "outputs": [
    {
     "data": {
      "text/html": [
       "<div>\n",
       "<table border=\"1\" class=\"dataframe\">\n",
       "  <thead>\n",
       "    <tr style=\"text-align: right;\">\n",
       "      <th></th>\n",
       "      <th>state</th>\n",
       "      <th>ini_zip</th>\n",
       "    </tr>\n",
       "  </thead>\n",
       "  <tbody>\n",
       "    <tr>\n",
       "      <th>0</th>\n",
       "      <td>AK</td>\n",
       "      <td>241</td>\n",
       "    </tr>\n",
       "    <tr>\n",
       "      <th>1</th>\n",
       "      <td>AL</td>\n",
       "      <td>624</td>\n",
       "    </tr>\n",
       "    <tr>\n",
       "      <th>2</th>\n",
       "      <td>AR</td>\n",
       "      <td>591</td>\n",
       "    </tr>\n",
       "    <tr>\n",
       "      <th>3</th>\n",
       "      <td>AZ</td>\n",
       "      <td>362</td>\n",
       "    </tr>\n",
       "    <tr>\n",
       "      <th>4</th>\n",
       "      <td>CA</td>\n",
       "      <td>167</td>\n",
       "    </tr>\n",
       "  </tbody>\n",
       "</table>\n",
       "</div>"
      ],
      "text/plain": [
       "  state ini_zip\n",
       "0    AK     241\n",
       "1    AL     624\n",
       "2    AR     591\n",
       "3    AZ     362\n",
       "4    CA     167"
      ]
     },
     "execution_count": 8,
     "metadata": {},
     "output_type": "execute_result"
    }
   ],
   "source": [
    "#zipcensus.shape\n",
    "#len(np.unique(zipcensus['zipcode'].str[:3]))\n",
    "\n",
    "#df1.head(5)\n",
    "df1['ini_zip'] = df1['zipcode'].apply(str).str[:3]\n",
    "#df1.head(5)\n",
    "\n",
    "df2 = df1[['state','ini_zip']].groupby(['state','ini_zip']).count()\n",
    "df2 = df2.reset_index()\n",
    "df2.sort_values(by=['state']).head(5)\n",
    "#df2.sort_values(by=['ini_zip'],ascending=[False]).head(5)\n",
    "\n",
    "#df1['zipcode'].apply(str).str[:3]"
   ]
  },
  {
   "cell_type": "code",
   "execution_count": 13,
   "metadata": {
    "collapsed": false
   },
   "outputs": [
    {
     "data": {
      "text/plain": [
       "Index(['zipcode', 'state', 'population', 'housingunits', 'landareameters',\n",
       "       'waterareameters', 'landareamiles', 'waterareamiles', 'latitude',\n",
       "       'longitude',\n",
       "       ...\n",
       "       'hhuofuelnone', 'hhuoplumbingcomplete', 'hhuoplumbinglacking',\n",
       "       'hhumediancashrent', 'hhunmarried', 'hhunmarriedmm', 'hhunmarriedmf',\n",
       "       'hhunmarriedff', 'hhunmarriedfm', 'hhother'],\n",
       "      dtype='object', length=113)"
      ]
     },
     "execution_count": 13,
     "metadata": {},
     "output_type": "execute_result"
    }
   ],
   "source": [
    "zipcensus.columns"
   ]
  },
  {
   "cell_type": "code",
   "execution_count": 38,
   "metadata": {
    "collapsed": true
   },
   "outputs": [],
   "source": [
    "def cal10000(d):\n",
    "    return sum(np.where(d>10000,1,0))\n",
    "def cal1000(d):\n",
    "    return sum(np.where(d>1000,1,0))\n",
    "\n",
    "def pop10000(d):\n",
    "    return sum(np.where(d >10000,d,0))\n",
    "def pop1000(d):\n",
    "    return sum(np.where(d >1000,d,0))\n",
    "\n"
   ]
  },
  {
   "cell_type": "code",
   "execution_count": 42,
   "metadata": {
    "collapsed": false
   },
   "outputs": [
    {
     "data": {
      "text/html": [
       "<div>\n",
       "<table border=\"1\" class=\"dataframe\">\n",
       "  <thead>\n",
       "    <tr>\n",
       "      <th></th>\n",
       "      <th>state</th>\n",
       "      <th colspan=\"4\" halign=\"left\">population</th>\n",
       "    </tr>\n",
       "    <tr>\n",
       "      <th></th>\n",
       "      <th></th>\n",
       "      <th>cal10000</th>\n",
       "      <th>cal1000</th>\n",
       "      <th>pop10000</th>\n",
       "      <th>pop1000</th>\n",
       "    </tr>\n",
       "  </thead>\n",
       "  <tbody>\n",
       "    <tr>\n",
       "      <th>0</th>\n",
       "      <td>AK</td>\n",
       "      <td>20</td>\n",
       "      <td>60</td>\n",
       "      <td>418751</td>\n",
       "      <td>565203</td>\n",
       "    </tr>\n",
       "    <tr>\n",
       "      <th>1</th>\n",
       "      <td>AL</td>\n",
       "      <td>157</td>\n",
       "      <td>513</td>\n",
       "      <td>2911817</td>\n",
       "      <td>4392989</td>\n",
       "    </tr>\n",
       "    <tr>\n",
       "      <th>2</th>\n",
       "      <td>AR</td>\n",
       "      <td>79</td>\n",
       "      <td>344</td>\n",
       "      <td>1678564</td>\n",
       "      <td>2568178</td>\n",
       "    </tr>\n",
       "    <tr>\n",
       "      <th>3</th>\n",
       "      <td>AZ</td>\n",
       "      <td>152</td>\n",
       "      <td>295</td>\n",
       "      <td>4540120</td>\n",
       "      <td>5102380</td>\n",
       "    </tr>\n",
       "    <tr>\n",
       "      <th>4</th>\n",
       "      <td>CA</td>\n",
       "      <td>928</td>\n",
       "      <td>1344</td>\n",
       "      <td>31998203</td>\n",
       "      <td>33734836</td>\n",
       "    </tr>\n",
       "  </tbody>\n",
       "</table>\n",
       "</div>"
      ],
      "text/plain": [
       "  state population                            \n",
       "          cal10000 cal1000  pop10000   pop1000\n",
       "0    AK         20      60    418751    565203\n",
       "1    AL        157     513   2911817   4392989\n",
       "2    AR         79     344   1678564   2568178\n",
       "3    AZ        152     295   4540120   5102380\n",
       "4    CA        928    1344  31998203  33734836"
      ]
     },
     "execution_count": 42,
     "metadata": {},
     "output_type": "execute_result"
    }
   ],
   "source": [
    "import numpy as np\n",
    "zipcensus[[\"state\",\"population\"]].groupby([\"state\"]).agg({\"population\":[cal10000,cal1000,pop10000,pop1000]}).reset_index().head(5)"
   ]
  },
  {
   "cell_type": "code",
   "execution_count": 138,
   "metadata": {
    "collapsed": false
   },
   "outputs": [
    {
     "data": {
      "text/html": [
       "<div>\n",
       "<table border=\"1\" class=\"dataframe\">\n",
       "  <thead>\n",
       "    <tr style=\"text-align: right;\">\n",
       "      <th></th>\n",
       "      <th>cnt0</th>\n",
       "      <th>cnt1</th>\n",
       "      <th>count</th>\n",
       "      <th>pct0</th>\n",
       "      <th>pct1</th>\n",
       "    </tr>\n",
       "  </thead>\n",
       "  <tbody>\n",
       "    <tr>\n",
       "      <th>0</th>\n",
       "      <td>73</td>\n",
       "      <td>60</td>\n",
       "      <td>133</td>\n",
       "      <td>0.548872</td>\n",
       "      <td>0.451128</td>\n",
       "    </tr>\n",
       "  </tbody>\n",
       "</table>\n",
       "</div>"
      ],
      "text/plain": [
       "   cnt0  cnt1  count      pct0      pct1\n",
       "0    73    60    133  0.548872  0.451128"
      ]
     },
     "execution_count": 138,
     "metadata": {},
     "output_type": "execute_result"
    }
   ],
   "source": [
    "import random\n",
    "import pandas as pd\n",
    "\n",
    "x=pd.DataFrame(np.random.randint(0,2,size=(133,1)),columns=list('A'))\n",
    "x.head()\n",
    "\n",
    "def cal10(d):\n",
    "    c = list(d)\n",
    "    e={\"cnt1\":c.count(1),\"cnt0\":c.count(0),\"count\":len(c),\"pct1\":c.count(1)/len(c),\"pct0\":c.count(0)/len(c)}\n",
    "    #d ={\"cnt1\":sum(np.where(d==1,1,0)),\"cnt0\":sum(np.where(d==0,1,0)),\"pct1\":sum(np.where(d==1,1,0))/len(d)}\n",
    "    return e\n",
    "\n",
    "data = cal10(x['A'])\n",
    "pd.DataFrame([data])\n"
   ]
  },
  {
   "cell_type": "code",
   "execution_count": 207,
   "metadata": {
    "collapsed": false
   },
   "outputs": [
    {
     "data": {
      "text/html": [
       "<div>\n",
       "<table border=\"1\" class=\"dataframe\">\n",
       "  <thead>\n",
       "    <tr style=\"text-align: right;\">\n",
       "      <th></th>\n",
       "      <th>is_pop_10000</th>\n",
       "      <th>pop_10000</th>\n",
       "      <th>pop_1000</th>\n",
       "      <th>is_pop_1000</th>\n",
       "    </tr>\n",
       "    <tr>\n",
       "      <th>state</th>\n",
       "      <th></th>\n",
       "      <th></th>\n",
       "      <th></th>\n",
       "      <th></th>\n",
       "    </tr>\n",
       "  </thead>\n",
       "  <tbody>\n",
       "    <tr>\n",
       "      <th>AK</th>\n",
       "      <td>20</td>\n",
       "      <td>418751</td>\n",
       "      <td>565203</td>\n",
       "      <td>60</td>\n",
       "    </tr>\n",
       "    <tr>\n",
       "      <th>AL</th>\n",
       "      <td>157</td>\n",
       "      <td>2911817</td>\n",
       "      <td>4392989</td>\n",
       "      <td>513</td>\n",
       "    </tr>\n",
       "    <tr>\n",
       "      <th>AR</th>\n",
       "      <td>79</td>\n",
       "      <td>1678564</td>\n",
       "      <td>2568178</td>\n",
       "      <td>344</td>\n",
       "    </tr>\n",
       "    <tr>\n",
       "      <th>AZ</th>\n",
       "      <td>152</td>\n",
       "      <td>4540120</td>\n",
       "      <td>5102380</td>\n",
       "      <td>295</td>\n",
       "    </tr>\n",
       "    <tr>\n",
       "      <th>CA</th>\n",
       "      <td>928</td>\n",
       "      <td>31998203</td>\n",
       "      <td>33735836</td>\n",
       "      <td>1345</td>\n",
       "    </tr>\n",
       "  </tbody>\n",
       "</table>\n",
       "</div>"
      ],
      "text/plain": [
       "       is_pop_10000  pop_10000  pop_1000  is_pop_1000\n",
       "state                                                \n",
       "AK               20     418751    565203           60\n",
       "AL              157    2911817   4392989          513\n",
       "AR               79    1678564   2568178          344\n",
       "AZ              152    4540120   5102380          295\n",
       "CA              928   31998203  33735836         1345"
      ]
     },
     "execution_count": 207,
     "metadata": {},
     "output_type": "execute_result"
    }
   ],
   "source": [
    "sub_zip = zipcensus[[\"state\",\"population\"]].copy()\n",
    "\n",
    "\n",
    "sub_zip[\"is_pop_10000\"] = np.where(sub_zip[\"population\"].values >= 10000,1,0)\n",
    "sub_zip[\"is_pop_1000\"] = np.where(sub_zip[\"population\"].values >= 1000,1,0)\n",
    "\n",
    "sub_zip[\"pop_10000\"] = sub_zip[\"population\"]*sub_zip[\"is_pop_10000\"]\n",
    "sub_zip[\"pop_1000\"] = sub_zip[\"population\"]*sub_zip[\"is_pop_1000\"]\n",
    "\n",
    "\n",
    "df = sub_zip.groupby([\"state\"]).agg({\"is_pop_10000\":sum,\"is_pop_1000\":sum,\"pop_10000\":sum,\"pop_1000\":sum})\n",
    "df.head(5)\n",
    "\n"
   ]
  },
  {
   "cell_type": "code",
   "execution_count": 145,
   "metadata": {
    "collapsed": false
   },
   "outputs": [
    {
     "data": {
      "text/html": [
       "<div>\n",
       "<table border=\"1\" class=\"dataframe\">\n",
       "  <thead>\n",
       "    <tr style=\"text-align: right;\">\n",
       "      <th></th>\n",
       "      <th>state</th>\n",
       "      <th>zipcode</th>\n",
       "      <th>ini_zip</th>\n",
       "    </tr>\n",
       "  </thead>\n",
       "  <tbody>\n",
       "    <tr>\n",
       "      <th>0</th>\n",
       "      <td>AK</td>\n",
       "      <td>241</td>\n",
       "      <td>241</td>\n",
       "    </tr>\n",
       "    <tr>\n",
       "      <th>1</th>\n",
       "      <td>AL</td>\n",
       "      <td>624</td>\n",
       "      <td>624</td>\n",
       "    </tr>\n",
       "    <tr>\n",
       "      <th>2</th>\n",
       "      <td>AR</td>\n",
       "      <td>591</td>\n",
       "      <td>591</td>\n",
       "    </tr>\n",
       "  </tbody>\n",
       "</table>\n",
       "</div>"
      ],
      "text/plain": [
       "  state  zipcode ini_zip\n",
       "0    AK      241     241\n",
       "1    AL      624     624\n",
       "2    AR      591     591"
      ]
     },
     "execution_count": 145,
     "metadata": {},
     "output_type": "execute_result"
    }
   ],
   "source": [
    "df1.head(3)"
   ]
  },
  {
   "cell_type": "code",
   "execution_count": 213,
   "metadata": {
    "collapsed": false
   },
   "outputs": [
    {
     "name": "stdout",
     "output_type": "stream",
     "text": [
      "  state   popdensity\n",
      "                mean\n",
      "0    AK   243.659722\n",
      "1    AL   313.041088\n",
      "2    AR   145.443226\n",
      "3    AZ  1098.836658\n",
      "4    CA  3179.195724\n",
      "\n",
      "\n",
      "  state  popdensity\n",
      "               mean\n",
      "0    AK  243.659722\n",
      "\n",
      "\n",
      "  state  population  landareamiles   popdensity  avg_popden\n",
      "0    PR       19143      66.691965   287.036077         NaN\n",
      "1    PR       42042      30.941214  1358.770215         NaN\n",
      "2    PR       55530      30.383543  1827.634124         NaN\n",
      "3    PR        3923       3.005935  1305.084774         NaN\n",
      "4    PR        6449      36.629531   176.060130         NaN\n",
      "\n",
      "\n",
      "      state  population  landareamiles   popdensity  avg_popden\n",
      "31797    AK       16211       6.321246  2564.526044         NaN\n",
      "31798    AK       18626      23.156015   804.369837         NaN\n",
      "31799    AK       13847       3.334455  4152.702616         NaN\n",
      "31800    AK       37284      73.931765   504.302853         NaN\n",
      "31801    AK        5322      63.236742    84.159933         NaN\n",
      "      popdensity\n",
      "            size\n",
      "state           \n",
      "AK           241\n",
      "AL           624\n",
      "AR           591\n",
      "AZ           362\n",
      "CA          1677\n"
     ]
    }
   ],
   "source": [
    "zippop = zipcensus[['state','population','landareamiles']]\n",
    "zippop = zippop.copy()\n",
    "\n",
    "#zippop = zippop.set_index(['state','population'])\n",
    "\n",
    "zippop['popdensity'] = pd.Series(zippop['population']/zippop['landareamiles'])\n",
    "\n",
    "#del zippop['avg_popden']\n",
    "\n",
    "temp = zippop[['state','popdensity']].groupby(['state']).agg([np.mean]).reset_index()\n",
    "\n",
    "zippop.loc[:,'avg_popden'] = zippop[['state','popdensity']].groupby(['state']).transform(np.mean)\n",
    "\n",
    "print(temp.head(5))\n",
    "print('\\n')\n",
    "print(temp[temp['state']=='AK'])\n",
    "print('\\n')\n",
    "\n",
    "print(zippop.head(5))\n",
    "print('\\n')\n",
    "print(zippop[zippop['state']=='AK'].head(5))\n",
    "\n",
    "#def chk_b\n",
    "\n",
    "print(zippop[['state','popdensity','avg_popden']].groupby(['state']).agg({'popdensity':[np.size]}).head(5))\n",
    "\n",
    "#final = pd.merge(zippop,temp,on=['state'],how='inner')\n",
    "#print(final.head(5))\n",
    "#print('\\n')"
   ]
  },
  {
   "cell_type": "code",
   "execution_count": 1,
   "metadata": {
    "collapsed": false
   },
   "outputs": [
    {
     "ename": "NameError",
     "evalue": "name 'zipcensus' is not defined",
     "output_type": "error",
     "traceback": [
      "\u001b[1;31m---------------------------------------------------------------------------\u001b[0m",
      "\u001b[1;31mNameError\u001b[0m                                 Traceback (most recent call last)",
      "\u001b[1;32m<ipython-input-1-126ad945a469>\u001b[0m in \u001b[0;36m<module>\u001b[1;34m()\u001b[0m\n\u001b[1;32m----> 1\u001b[1;33m \u001b[0mzipcensus\u001b[0m\u001b[1;33m[\u001b[0m\u001b[1;34m'zipcode'\u001b[0m\u001b[1;33m]\u001b[0m \u001b[1;33m=\u001b[0m \u001b[0mzipcensus\u001b[0m\u001b[1;33m[\u001b[0m\u001b[1;34m'zipcode'\u001b[0m\u001b[1;33m]\u001b[0m\u001b[1;33m.\u001b[0m\u001b[0mastype\u001b[0m\u001b[1;33m(\u001b[0m\u001b[0mstr\u001b[0m\u001b[1;33m)\u001b[0m\u001b[1;33m\u001b[0m\u001b[0m\n\u001b[0m\u001b[0;32m      2\u001b[0m \u001b[0mzipcensus\u001b[0m\u001b[1;33m[\u001b[0m\u001b[1;34m'zipcode'\u001b[0m\u001b[1;33m]\u001b[0m\u001b[1;33m.\u001b[0m\u001b[0mmap\u001b[0m\u001b[1;33m(\u001b[0m\u001b[0mlen\u001b[0m\u001b[1;33m)\u001b[0m\u001b[1;33m[\u001b[0m\u001b[1;33m:\u001b[0m\u001b[1;36m3\u001b[0m\u001b[1;33m]\u001b[0m\u001b[1;33m\u001b[0m\u001b[0m\n",
      "\u001b[1;31mNameError\u001b[0m: name 'zipcensus' is not defined"
     ]
    }
   ],
   "source": [
    "zipcensus['zipcode'] = zipcensus['zipcode'].astype(str)\n",
    "zipcensus['zipcode'].map(len)[:3]"
   ]
  }
 ],
 "metadata": {
  "anaconda-cloud": {},
  "kernelspec": {
   "display_name": "Python [Root]",
   "language": "python",
   "name": "Python [Root]"
  },
  "language_info": {
   "codemirror_mode": {
    "name": "ipython",
    "version": 2
   },
   "file_extension": ".py",
   "mimetype": "text/x-python",
   "name": "python",
   "nbconvert_exporter": "python",
   "pygments_lexer": "ipython2",
   "version": "2.7.12"
  }
 },
 "nbformat": 4,
 "nbformat_minor": 0
}
